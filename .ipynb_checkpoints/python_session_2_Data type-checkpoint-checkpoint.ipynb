{
 "cells": [
  {
   "cell_type": "markdown",
   "id": "7c164b6a-0f95-4d1d-b8f9-6d25250e4998",
   "metadata": {},
   "source": [
    "**DataTypes**"
   ]
  },
  {
   "cell_type": "markdown",
   "id": "5b7caf33-0f19-4a4f-aa7f-5dd08091a65a",
   "metadata": {},
   "source": [
    "- In python we have many data types are there\n",
    "   - Integer\n",
    "   - Float\n",
    "   - String\n",
    "   - Boolean"
   ]
  },
  {
   "cell_type": "markdown",
   "id": "a5665b92-6f55-4c43-ba20-dba1235f00ee",
   "metadata": {},
   "source": [
    "**Integer**"
   ]
  },
  {
   "cell_type": "markdown",
   "id": "79a64d44-5615-4ba1-b11d-9b9721eb3edb",
   "metadata": {},
   "source": [
    "- in python no need to mention a data type like c\n",
    "- it will consider the data type automatically"
   ]
  },
  {
   "cell_type": "code",
   "execution_count": 2,
   "id": "87728aae-3708-4ef5-8197-0baa161c7b2d",
   "metadata": {},
   "outputs": [],
   "source": [
    "number=100\n",
    "# in other to check the type of veribles we will use \n",
    "# in built function calles as type"
   ]
  },
  {
   "cell_type": "code",
   "execution_count": 4,
   "id": "9d4fc342-9581-495e-a77e-f7542ade5d64",
   "metadata": {},
   "outputs": [
    {
     "data": {
      "text/plain": [
       "int"
      ]
     },
     "execution_count": 4,
     "metadata": {},
     "output_type": "execute_result"
    }
   ],
   "source": [
    "type(number)"
   ]
  },
  {
   "cell_type": "code",
   "execution_count": 19,
   "id": "64725b1a-4c80-4b8a-af20-59276689a571",
   "metadata": {},
   "outputs": [
    {
     "data": {
      "text/plain": [
       "int"
      ]
     },
     "execution_count": 19,
     "metadata": {},
     "output_type": "execute_result"
    }
   ],
   "source": [
    "type(100)"
   ]
  },
  {
   "cell_type": "markdown",
   "id": "ff0dd30d-8ddd-4a99-8130-c255dff9420d",
   "metadata": {},
   "source": [
    "- in maths we have different type of representation available\n",
    "- the following number system are: \n",
    "- binary\n",
    "- octa\n",
    "- Decimal\n",
    "- hexa"
   ]
  },
  {
   "cell_type": "markdown",
   "id": "ef323293-41fb-4187-ae7f-c9c8b09df979",
   "metadata": {},
   "source": [
    "**Binary**"
   ]
  },
  {
   "cell_type": "markdown",
   "id": "3fb947a3-bcab-4b62-8051-404c70b7e065",
   "metadata": {},
   "source": [
    "- Benary has bi which indicats two\n",
    "- we have total 0 to 9 digitsbto represnt any number\n",
    "- from there we will take only fisrt two digits i.e.0 and 1"
   ]
  },
  {
   "cell_type": "markdown",
   "id": "471685c2-7e17-44e4-8f40-02b2a54a601b",
   "metadata": {},
   "source": [
    "- Example:0b101,0b0001\n",
    "- Wrong represents is:0b002,1b001"
   ]
  },
  {
   "cell_type": "code",
   "execution_count": 15,
   "id": "b836a137-ad3f-4502-9c9a-2bcfb4db8260",
   "metadata": {},
   "outputs": [
    {
     "data": {
      "text/plain": [
       "1"
      ]
     },
     "execution_count": 15,
     "metadata": {},
     "output_type": "execute_result"
    }
   ],
   "source": [
    "num=0b001\n",
    "num"
   ]
  },
  {
   "cell_type": "code",
   "execution_count": 19,
   "id": "b555a380-3177-4bdb-bc29-fdd4be74e876",
   "metadata": {},
   "outputs": [
    {
     "data": {
      "text/plain": [
       "15"
      ]
     },
     "execution_count": 19,
     "metadata": {},
     "output_type": "execute_result"
    }
   ],
   "source": [
    "0b1111"
   ]
  },
  {
   "cell_type": "markdown",
   "id": "1c40c052-3cbc-4c0b-8f05-9dee0cc1e0bd",
   "metadata": {},
   "source": [
    "4 2 1 num\n",
    "0 0 0 0\n",
    "0 0 1 1\n",
    "0 1 0 2\n",
    "0 1 1 3\n",
    "1 0 0 4\n",
    "1 0 1 5\n",
    "1 1 0 6  #0b110=6\n",
    "1 1 1 7  #0b111=7"
   ]
  },
  {
   "cell_type": "markdown",
   "id": "61c2f085-e90f-4ff3-9199-c804caa577dd",
   "metadata": {},
   "source": [
    "**octa**"
   ]
  },
  {
   "cell_type": "markdown",
   "id": "095ffacd-9c25-4f3a-9c8b-b30800aa2a9a",
   "metadata": {},
   "source": [
    "- Octa means 8\n",
    "- we have total 0 to 9 digits to represnt any number: 0,1,2,3,4,5,6,7,8,9\n",
    "- frmao there we will take only starting 8 digits i.e.0 to 7\n",
    "- Example : 0o123 , 0o567 ,0o10006\n",
    "- wrong representation is :0o786 because 7,6 but 8"
   ]
  },
  {
   "cell_type": "code",
   "execution_count": 4,
   "id": "10c51ea4-eb7a-4fec-8080-c29c77478695",
   "metadata": {},
   "outputs": [
    {
     "ename": "SyntaxError",
     "evalue": "invalid digit '8' in octal literal (3171049937.py, line 1)",
     "output_type": "error",
     "traceback": [
      "\u001b[1;36m  Cell \u001b[1;32mIn[4], line 1\u001b[1;36m\u001b[0m\n\u001b[1;33m    0o786\u001b[0m\n\u001b[1;37m       ^\u001b[0m\n\u001b[1;31mSyntaxError\u001b[0m\u001b[1;31m:\u001b[0m invalid digit '8' in octal literal\n"
     ]
    }
   ],
   "source": [
    "0o786"
   ]
  },
  {
   "cell_type": "markdown",
   "id": "4812d583-c758-4816-958d-8126c3f1c653",
   "metadata": {},
   "source": [
    "- A good develope will understand the error easily \n",
    "- almost we will get 20 types\n",
    "- we will focus both on output as well as errors "
   ]
  },
  {
   "cell_type": "code",
   "execution_count": 26,
   "id": "434b11a4-ce94-4708-8633-5f24a75f7f33",
   "metadata": {},
   "outputs": [
    {
     "data": {
      "text/plain": [
       "83"
      ]
     },
     "execution_count": 26,
     "metadata": {},
     "output_type": "execute_result"
    }
   ],
   "source": [
    "0o123"
   ]
  },
  {
   "cell_type": "code",
   "execution_count": 28,
   "id": "6b5f98c6-4866-4615-9a7c-9fae07e5c83c",
   "metadata": {},
   "outputs": [
    {
     "data": {
      "text/plain": [
       "302"
      ]
     },
     "execution_count": 28,
     "metadata": {},
     "output_type": "execute_result"
    }
   ],
   "source": [
    "0o456"
   ]
  },
  {
   "cell_type": "markdown",
   "id": "f474e483-2e25-4af2-ac80-36123c4968c0",
   "metadata": {},
   "source": [
    "**Hexa**"
   ]
  },
  {
   "cell_type": "markdown",
   "id": "1e5b05b4-e876-48d2-9adb-cdd6643e8c33",
   "metadata": {},
   "source": [
    "- Hexa means 16\n",
    "- we have total 0 to 9 digits to represnt any number: 0,1,2,3,4,5,6,7,8,9\n",
    "- After 9 we will use  A to FA:10,B:11,C:12,D:13,E:14,F:15\n",
    "- Example : 0x123,0XABC,0x9ad\n",
    "- wrong representation is:0xFGH"
   ]
  },
  {
   "cell_type": "code",
   "execution_count": 32,
   "id": "790ba970-c640-43b5-a1e1-5c1a4d38cd2e",
   "metadata": {},
   "outputs": [
    {
     "data": {
      "text/plain": [
       "2748"
      ]
     },
     "execution_count": 32,
     "metadata": {},
     "output_type": "execute_result"
    }
   ],
   "source": [
    "0xabc"
   ]
  },
  {
   "cell_type": "code",
   "execution_count": 34,
   "id": "fda62917-8d24-4f3b-8ffb-a9879295d2fb",
   "metadata": {},
   "outputs": [
    {
     "data": {
      "text/plain": [
       "2745"
      ]
     },
     "execution_count": 34,
     "metadata": {},
     "output_type": "execute_result"
    }
   ],
   "source": [
    "0xab9 #2898"
   ]
  },
  {
   "cell_type": "code",
   "execution_count": 36,
   "id": "5fe082bc-b9c5-4a91-988b-45267dba180d",
   "metadata": {},
   "outputs": [
    {
     "data": {
      "text/plain": [
       "2898"
      ]
     },
     "execution_count": 36,
     "metadata": {},
     "output_type": "execute_result"
    }
   ],
   "source": [
    "0Xb52"
   ]
  },
  {
   "cell_type": "markdown",
   "id": "72dcf6fc-f710-4b9a-81bc-f883dbb56e46",
   "metadata": {},
   "source": [
    "**Float**"
   ]
  },
  {
   "cell_type": "code",
   "execution_count": 10,
   "id": "c4dba997-d1e5-477b-bc60-5c4f184b653e",
   "metadata": {},
   "outputs": [
    {
     "data": {
      "text/plain": [
       "float"
      ]
     },
     "execution_count": 10,
     "metadata": {},
     "output_type": "execute_result"
    }
   ],
   "source": [
    "num=10.5\n",
    "type(num)"
   ]
  },
  {
   "cell_type": "code",
   "execution_count": 12,
   "id": "f3d216c2-f8ea-42c4-b63f-bfc5796961c5",
   "metadata": {},
   "outputs": [
    {
     "data": {
      "text/plain": [
       "(int, float)"
      ]
     },
     "execution_count": 12,
     "metadata": {},
     "output_type": "execute_result"
    }
   ],
   "source": [
    "type(10);type(10.5)\n",
    "(int,float)"
   ]
  },
  {
   "cell_type": "code",
   "execution_count": 14,
   "id": "5632bf97-f035-44ab-8816-17f9a4a1e525",
   "metadata": {},
   "outputs": [
    {
     "data": {
      "text/plain": [
       "100000.0"
      ]
     },
     "execution_count": 14,
     "metadata": {},
     "output_type": "execute_result"
    }
   ],
   "source": [
    "10e1 # 10* <10> =100\n",
    "10e2 #10* <100> =1000\n",
    "10e3 #10* <1000> =10000\n",
    "10e4 #10* <10000> =100000"
   ]
  },
  {
   "cell_type": "code",
   "execution_count": 16,
   "id": "e22f69da-1567-4d6b-b469-e0c4d7787f51",
   "metadata": {},
   "outputs": [
    {
     "data": {
      "text/plain": [
       "20"
      ]
     },
     "execution_count": 16,
     "metadata": {},
     "output_type": "execute_result"
    }
   ],
   "source": [
    "10\n",
    "20\n",
    "# in juputer note book by default last value will print "
   ]
  },
  {
   "cell_type": "code",
   "execution_count": 22,
   "id": "9f9e48da-a612-4394-95b9-d6cfd44c1b5d",
   "metadata": {},
   "outputs": [
    {
     "name": "stdout",
     "output_type": "stream",
     "text": [
      "10\n",
      "20\n"
     ]
    }
   ],
   "source": [
    "# if you want to see all the answere  apply print\n",
    "print(10)\n",
    "print(20)"
   ]
  },
  {
   "cell_type": "code",
   "execution_count": 24,
   "id": "74a015aa-504b-4a13-a74a-7b9007eee2ef",
   "metadata": {},
   "outputs": [
    {
     "name": "stdout",
     "output_type": "stream",
     "text": [
      "100.0\n",
      "1000.0\n",
      "10000.0\n",
      "100000.0\n"
     ]
    }
   ],
   "source": [
    "print(10e1)\n",
    "print(10e2)\n",
    "print(10e3)\n",
    "print(10e4)"
   ]
  },
  {
   "cell_type": "code",
   "execution_count": 28,
   "id": "575fa0d3-bd09-41fe-8ee2-8cc9f648139c",
   "metadata": {},
   "outputs": [
    {
     "data": {
      "text/plain": [
       "(100.0, 1000.0, 10000.0)"
      ]
     },
     "execution_count": 28,
     "metadata": {},
     "output_type": "execute_result"
    }
   ],
   "source": [
    "10e+1,10e+2,10e+3"
   ]
  },
  {
   "cell_type": "code",
   "execution_count": 32,
   "id": "92f14f59-e10e-4586-be49-6b6b041a3fe2",
   "metadata": {
    "jp-MarkdownHeadingCollapsed": true
   },
   "outputs": [
    {
     "data": {
      "text/plain": [
       "1000.0"
      ]
     },
     "execution_count": 32,
     "metadata": {},
     "output_type": "execute_result"
    }
   ],
   "source": [
    "10E2"
   ]
  },
  {
   "cell_type": "code",
   "execution_count": null,
   "id": "82ea0bfa-4d39-44cb-9332-b8120317a87e",
   "metadata": {},
   "outputs": [],
   "source": [
    "10e-1 # 10/<10> =1\n",
    "10e-2 # 10/<100> =0.1\n",
    "10e-3 # 10/<1000> =0.01"
   ]
  },
  {
   "cell_type": "code",
   "execution_count": 40,
   "id": "fe60ad23-3d13-4f99-9d3a-0bfb36c1998a",
   "metadata": {},
   "outputs": [
    {
     "name": "stdout",
     "output_type": "stream",
     "text": [
      "1.0\n",
      "0.1\n",
      "0.01\n"
     ]
    }
   ],
   "source": [
    "print(10e-1)\n",
    "print(10e-2)\n",
    "print(10e-3)"
   ]
  },
  {
   "cell_type": "markdown",
   "id": "723163b2-d482-40d6-bf71-afe651f5c689",
   "metadata": {},
   "source": [
    "- In the machine learning we often see the value in exponential format\n",
    "- in some cases we need to search for zero value \n",
    "- in ML with python we rerely see exatct an answer 0.0\n",
    "- instead of 0.0 it will display as 1,2345e-17"
   ]
  },
  {
   "cell_type": "code",
   "execution_count": 44,
   "id": "04edee3d-f6a8-4ab6-8a63-faae75c0cb27",
   "metadata": {},
   "outputs": [
    {
     "data": {
      "text/plain": [
       "0.000774619736"
      ]
     },
     "execution_count": 44,
     "metadata": {},
     "output_type": "execute_result"
    }
   ],
   "source": [
    "7.74619736e-4"
   ]
  },
  {
   "cell_type": "code",
   "execution_count": null,
   "id": "3cc005ab-744c-4ddc-b4ae-e1c568a6ec15",
   "metadata": {},
   "outputs": [],
   "source": [
    "1.23456e-17\n",
    "1.2345/1000000000000000=0.000000000000012345"
   ]
  },
  {
   "cell_type": "markdown",
   "id": "a847998c-8771-4a00-8605-cd15a0d19bd9",
   "metadata": {},
   "source": [
    "**Strings**"
   ]
  },
  {
   "cell_type": "markdown",
   "id": "4a83dd70-39f1-47de-8e75-fbd69d3450ad",
   "metadata": {},
   "source": [
    "- strings represents english charecter generlly\n",
    "- strings will respresnt with quotes\n",
    "- singel quotes \n",
    "- double quotes\n",
    "- triple qouutes"
   ]
  },
  {
   "cell_type": "code",
   "execution_count": 38,
   "id": "125c7a80-f6f6-4565-861c-fbb93138aa74",
   "metadata": {},
   "outputs": [
    {
     "data": {
      "text/plain": [
       "'ajay chavan'"
      ]
     },
     "execution_count": 38,
     "metadata": {},
     "output_type": "execute_result"
    }
   ],
   "source": [
    "str1='ajay chavan' #singel quotes\n",
    "str1"
   ]
  },
  {
   "cell_type": "code",
   "execution_count": 40,
   "id": "f73e109b-0f48-445d-844a-5943dfce86d0",
   "metadata": {},
   "outputs": [
    {
     "data": {
      "text/plain": [
       "str"
      ]
     },
     "execution_count": 40,
     "metadata": {},
     "output_type": "execute_result"
    }
   ],
   "source": [
    "type(str1)"
   ]
  },
  {
   "cell_type": "code",
   "execution_count": 44,
   "id": "f16f2029-1eb5-4546-b4c5-5ebb3b9ba5ec",
   "metadata": {},
   "outputs": [
    {
     "data": {
      "text/plain": [
       "'ajay chavan'"
      ]
     },
     "execution_count": 44,
     "metadata": {},
     "output_type": "execute_result"
    }
   ],
   "source": [
    "str2='ajay chavan' #double qoute\n",
    "str2"
   ]
  },
  {
   "cell_type": "markdown",
   "id": "7c80f40e-ff15-4c0e-91e0-619c736cdd46",
   "metadata": {},
   "source": [
    "- we can represent in any way but python will give in singel quoutes"
   ]
  },
  {
   "cell_type": "code",
   "execution_count": 51,
   "id": "1cb23258-9306-41fd-9c96-4fb3760333cf",
   "metadata": {},
   "outputs": [
    {
     "ename": "NameError",
     "evalue": "name 'str1e' is not defined",
     "output_type": "error",
     "traceback": [
      "\u001b[1;31m---------------------------------------------------------------------------\u001b[0m",
      "\u001b[1;31mNameError\u001b[0m                                 Traceback (most recent call last)",
      "Cell \u001b[1;32mIn[51], line 1\u001b[0m\n\u001b[1;32m----> 1\u001b[0m \u001b[38;5;28mprint\u001b[39m(str1e)\n\u001b[0;32m      2\u001b[0m \u001b[38;5;28mprint\u001b[39m(str2e)\n",
      "\u001b[1;31mNameError\u001b[0m: name 'str1e' is not defined"
     ]
    }
   ],
   "source": [
    "print(str1)\n",
    "print(str2)"
   ]
  },
  {
   "cell_type": "markdown",
   "id": "c5e9418d-2e84-49a1-aaa9-a762f0a3e158",
   "metadata": {},
   "source": [
    "- when we apply print on strings .it will display with out quotes"
   ]
  },
  {
   "cell_type": "code",
   "execution_count": 56,
   "id": "49c9f79f-a2ba-4b9a-bed1-cdee261fc6b8",
   "metadata": {},
   "outputs": [
    {
     "data": {
      "text/plain": [
       "str"
      ]
     },
     "execution_count": 56,
     "metadata": {},
     "output_type": "execute_result"
    }
   ],
   "source": [
    "str3='abc123'\n",
    "type(str3)"
   ]
  },
  {
   "cell_type": "code",
   "execution_count": 59,
   "id": "03d69312-9567-4ff2-bd4c-175de6fea7b5",
   "metadata": {},
   "outputs": [
    {
     "data": {
      "text/plain": [
       "(int, str, str, str)"
      ]
     },
     "execution_count": 59,
     "metadata": {},
     "output_type": "execute_result"
    }
   ],
   "source": [
    "type (10),type('10.5'),type('123'),type('apple')\n"
   ]
  },
  {
   "cell_type": "markdown",
   "id": "aa3362cd-8bbe-4146-bbaa-c1325f5ca010",
   "metadata": {},
   "source": [
    "- any data type or any value is provided by qoutes means\n",
    "- it become a string only \n",
    "- strings always in Red color\n",
    "- veribles always in black color\n",
    "- keywords or number always in Green color "
   ]
  },
  {
   "cell_type": "code",
   "execution_count": 62,
   "id": "068c8e3d-9abc-4b55-b68e-f37ae4fb53ef",
   "metadata": {},
   "outputs": [],
   "source": [
    "ajay='ajay'\n",
    "# 'ajay' is a english letter stored in a varibles name called ajay"
   ]
  },
  {
   "cell_type": "code",
   "execution_count": 63,
   "id": "f4e7fc8e-0036-4c1a-88c5-272964453be9",
   "metadata": {},
   "outputs": [
    {
     "name": "stdout",
     "output_type": "stream",
     "text": [
      "I like 'ajay'\n"
     ]
    }
   ],
   "source": [
    "str1=\"I like 'ajay'\"\n",
    "print(str1)"
   ]
  },
  {
   "cell_type": "code",
   "execution_count": 65,
   "id": "62031589-f0d9-4ffb-8c80-afbb565ba287",
   "metadata": {},
   "outputs": [
    {
     "name": "stdout",
     "output_type": "stream",
     "text": [
      "I like \"ajay\"\n"
     ]
    }
   ],
   "source": [
    "str1='I like \"ajay\"'\n",
    "print(str1)"
   ]
  },
  {
   "cell_type": "markdown",
   "id": "6db5cdaa-051a-4062-8211-2889437185e7",
   "metadata": {},
   "source": [
    "- if you want to highlite any word\n",
    "- represent entrir string in singel quoates,highlite word in douable quotes vice versa"
   ]
  },
  {
   "cell_type": "code",
   "execution_count": null,
   "id": "3815329e-5f41-4bcb-ad7c-01f3d936f48c",
   "metadata": {},
   "outputs": [],
   "source": [
    "hai \n",
    "how are you"
   ]
  },
  {
   "cell_type": "code",
   "execution_count": 68,
   "id": "5f08f511-1ce4-4e61-af2e-411c5aadec9a",
   "metadata": {},
   "outputs": [
    {
     "ename": "SyntaxError",
     "evalue": "unterminated string literal (detected at line 1) (1436019457.py, line 1)",
     "output_type": "error",
     "traceback": [
      "\u001b[1;36m  Cell \u001b[1;32mIn[68], line 1\u001b[1;36m\u001b[0m\n\u001b[1;33m    str1='hai\u001b[0m\n\u001b[1;37m         ^\u001b[0m\n\u001b[1;31mSyntaxError\u001b[0m\u001b[1;31m:\u001b[0m unterminated string literal (detected at line 1)\n"
     ]
    }
   ],
   "source": [
    "str1='hai\n",
    "    how are you \n",
    "    im goog'"
   ]
  },
  {
   "cell_type": "code",
   "execution_count": 72,
   "id": "6d1de68c-0b0d-48f1-a52c-c08062e547e9",
   "metadata": {},
   "outputs": [
    {
     "ename": "SyntaxError",
     "evalue": "unterminated string literal (detected at line 1) (4108345496.py, line 1)",
     "output_type": "error",
     "traceback": [
      "\u001b[1;36m  Cell \u001b[1;32mIn[72], line 1\u001b[1;36m\u001b[0m\n\u001b[1;33m    str1=\"hai\u001b[0m\n\u001b[1;37m         ^\u001b[0m\n\u001b[1;31mSyntaxError\u001b[0m\u001b[1;31m:\u001b[0m unterminated string literal (detected at line 1)\n"
     ]
    }
   ],
   "source": [
    "str1=\"hai\n",
    "    how are you\n",
    "     im good\""
   ]
  },
  {
   "cell_type": "code",
   "execution_count": 74,
   "id": "0aed5dd6-7154-4e9b-b01f-141dc0a1d5b5",
   "metadata": {},
   "outputs": [
    {
     "data": {
      "text/plain": [
       "'hai\\n    how are you\\n    im good'"
      ]
     },
     "execution_count": 74,
     "metadata": {},
     "output_type": "execute_result"
    }
   ],
   "source": [
    "str1=\"\"\"hai\n",
    "    how are you\n",
    "    im good\"\"\"\n",
    "str1"
   ]
  },
  {
   "cell_type": "code",
   "execution_count": 76,
   "id": "37f0695e-a4b0-4a1a-b653-e2f8a3b2c2af",
   "metadata": {},
   "outputs": [
    {
     "name": "stdout",
     "output_type": "stream",
     "text": [
      "hai\n",
      "    how are you\n",
      "    im good\n"
     ]
    }
   ],
   "source": [
    "print(str1)"
   ]
  },
  {
   "cell_type": "markdown",
   "id": "c68aa958-eec7-488e-83b1-c362394de69a",
   "metadata": {},
   "source": [
    "- triple qoutes is used for write a multipline comments \n",
    "- this is called as **docstring**\n",
    "- in order to write a story in jupyetr nootbook we have a markdown\n",
    "- but other platform like VScode ,pycharm we dont have a markdoun\n",
    "- then how can we write a story:by using triple quoutes"
   ]
  },
  {
   "cell_type": "markdown",
   "id": "4607722a-84e3-46d8-896c-358c36e65bc8",
   "metadata": {},
   "source": [
    "**BOOLEAN**"
   ]
  },
  {
   "cell_type": "markdown",
   "id": "323134dc-12f0-4963-91e8-51a78af7190a",
   "metadata": {},
   "source": [
    "- computer takes the value in binary format(1.0)\n",
    "- computer Given the answer in Boolean formate\n",
    "- true\n",
    "- false\n",
    "- true indicates 1\n",
    "- false indicates 0"
   ]
  },
  {
   "cell_type": "code",
   "execution_count": 76,
   "id": "a987ed51-f233-449f-87df-1d5ee69c2208",
   "metadata": {},
   "outputs": [
    {
     "data": {
      "text/plain": [
       "bool"
      ]
     },
     "execution_count": 76,
     "metadata": {},
     "output_type": "execute_result"
    }
   ],
   "source": [
    "val=True\n",
    "type(True)"
   ]
  },
  {
   "cell_type": "code",
   "execution_count": 78,
   "id": "d8c94a85-e387-483b-9bb6-583426c1afcc",
   "metadata": {},
   "outputs": [
    {
     "data": {
      "text/plain": [
       "bool"
      ]
     },
     "execution_count": 78,
     "metadata": {},
     "output_type": "execute_result"
    }
   ],
   "source": [
    "val1=False\n",
    "type(val1)"
   ]
  },
  {
   "cell_type": "code",
   "execution_count": 81,
   "id": "3f46b90e-b83c-4273-bc01-a4c78a26fac0",
   "metadata": {},
   "outputs": [
    {
     "data": {
      "text/plain": [
       "('True', True)"
      ]
     },
     "execution_count": 81,
     "metadata": {},
     "output_type": "execute_result"
    }
   ],
   "source": [
    "true='True'\n",
    "TRUE=True\n",
    "\n",
    "true,TRUE # two are veriables"
   ]
  },
  {
   "cell_type": "code",
   "execution_count": 83,
   "id": "0cab138c-b4aa-4acd-b9d0-23779c6e7629",
   "metadata": {},
   "outputs": [
    {
     "data": {
      "text/plain": [
       "(str, bool)"
      ]
     },
     "execution_count": 83,
     "metadata": {},
     "output_type": "execute_result"
    }
   ],
   "source": [
    "type(true),type(TRUE)"
   ]
  },
  {
   "cell_type": "code",
   "execution_count": null,
   "id": "7d48c251-8234-4a06-8ca5-41429c3f0899",
   "metadata": {},
   "outputs": [],
   "source": [
    "a=1o\n",
    "b=10.5\n",
    "c='10'\n",
    "d=True"
   ]
  },
  {
   "cell_type": "code",
   "execution_count": null,
   "id": "b378772b-10a5-41e9-8d22-b553897699b8",
   "metadata": {},
   "outputs": [],
   "source": []
  }
 ],
 "metadata": {
  "kernelspec": {
   "display_name": "Python 3 (ipykernel)",
   "language": "python",
   "name": "python3"
  },
  "language_info": {
   "codemirror_mode": {
    "name": "ipython",
    "version": 3
   },
   "file_extension": ".py",
   "mimetype": "text/x-python",
   "name": "python",
   "nbconvert_exporter": "python",
   "pygments_lexer": "ipython3",
   "version": "3.12.4"
  }
 },
 "nbformat": 4,
 "nbformat_minor": 5
}
