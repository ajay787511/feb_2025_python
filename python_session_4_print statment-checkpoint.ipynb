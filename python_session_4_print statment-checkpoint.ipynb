{
 "cells": [
  {
   "cell_type": "markdown",
   "id": "12937d2b-cfb3-4aec-874a-41e2a7bda94b",
   "metadata": {},
   "source": [
    "**Print statments**"
   ]
  },
  {
   "cell_type": "markdown",
   "id": "4d9d6bba-059d-4b0f-b32c-87e875c506c0",
   "metadata": {},
   "source": [
    "- print is a inbulit function , to see the answer \n",
    "- in jupyter notebook we can see lates value with out using print\n",
    "- if you want to see all the value we need to use print\n",
    "- In VScode ,python there is no markdoun option\n",
    "- if want to see any answer,we need to use print statement"
   ]
  },
  {
   "cell_type": "code",
   "execution_count": 3,
   "id": "3e67b0ac-b47a-492c-89bb-fc50f4a87fa9",
   "metadata": {},
   "outputs": [
    {
     "data": {
      "text/plain": [
       "200"
      ]
     },
     "execution_count": 3,
     "metadata": {},
     "output_type": "execute_result"
    }
   ],
   "source": [
    "num1=100\n",
    "num2=200\n",
    "num1\n",
    "num2"
   ]
  },
  {
   "cell_type": "code",
   "execution_count": 4,
   "id": "b9ea2d20-603c-4718-b1d6-a5d77829656b",
   "metadata": {},
   "outputs": [
    {
     "name": "stdout",
     "output_type": "stream",
     "text": [
      "100\n",
      "200\n"
     ]
    }
   ],
   "source": [
    "num1=100\n",
    "num2=200\n",
    "print(num1)\n",
    "print(num2)"
   ]
  },
  {
   "cell_type": "code",
   "execution_count": 6,
   "id": "545865a3-218b-4bee-8df1-26974bb1da74",
   "metadata": {},
   "outputs": [
    {
     "name": "stdout",
     "output_type": "stream",
     "text": [
      "100 200\n",
      "10 20 30\n",
      "hello\n",
      "hello bye\n",
      "hello bye 100 200 10 20\n"
     ]
    }
   ],
   "source": [
    "num1=100\n",
    "num2=200\n",
    "print(num1,num2)\n",
    "print(10,20,30)\n",
    "print('hello')\n",
    "print('hello','bye')\n",
    "print('hello','bye',num1,num2,10,20)      "
   ]
  },
  {
   "cell_type": "code",
   "execution_count": 13,
   "id": "a5aacf61-af34-4939-b973-8519e167a2c3",
   "metadata": {},
   "outputs": [
    {
     "name": "stdout",
     "output_type": "stream",
     "text": [
      "hello\n"
     ]
    }
   ],
   "source": [
    "str1=\"hello\"\n",
    "print(str1)"
   ]
  },
  {
   "cell_type": "code",
   "execution_count": 15,
   "id": "ec8ac33f-f174-4c96-8f14-b915159e09d3",
   "metadata": {},
   "outputs": [
    {
     "name": "stdout",
     "output_type": "stream",
     "text": [
      "10\n"
     ]
    }
   ],
   "source": [
    "if True:\n",
    "    print(10)"
   ]
  },
  {
   "cell_type": "code",
   "execution_count": 19,
   "id": "b8252e3d-733f-4935-824e-60fcd3d14b66",
   "metadata": {},
   "outputs": [],
   "source": [
    "a=10\n",
    "b=20\n",
    "c=a+b"
   ]
  },
  {
   "cell_type": "code",
   "execution_count": 33,
   "id": "13352ff8-eb1d-4079-b6e2-de27fc574b3d",
   "metadata": {},
   "outputs": [
    {
     "name": "stdout",
     "output_type": "stream",
     "text": [
      "The addition of 10 and 20 is 30\n",
      "The addition of a and b is c\n",
      "The addition of 10 and 20 is 50\n"
     ]
    }
   ],
   "source": [
    "c\n",
    "# The addition of 10 and 20 is 30\n",
    "print(\"The addition of 10 and 20 is 30\")\n",
    "print(\"The addition of a and b is c\")\n",
    "print(\"The addition of\",a, \"and\",b, 'is',c)"
   ]
  },
  {
   "cell_type": "code",
   "execution_count": 41,
   "id": "eae4b6d1-6bc2-46d4-9d04-46d6736462f5",
   "metadata": {},
   "outputs": [
    {
     "name": "stdout",
     "output_type": "stream",
     "text": [
      "The addition of 10 and 20 is 30\n",
      "The addition of a and b is c\n",
      "The addition of 100 and 200 is 300\n"
     ]
    }
   ],
   "source": [
    "a=100\n",
    "b=200\n",
    "c=a+b\n",
    "c\n",
    "# The addition of 10 and 20 is 30\n",
    "print(\"The addition of 10 and 20 is 30\")\n",
    "print(\"The addition of a and b is c\")\n",
    "print('The addition of',a,\"and\",b,'is',c)"
   ]
  },
  {
   "cell_type": "code",
   "execution_count": 47,
   "id": "50a7f886-66b2-40fb-8c9e-b308f2531d37",
   "metadata": {},
   "outputs": [
    {
     "name": "stdout",
     "output_type": "stream",
     "text": [
      "My name is ajay, Im 20 years old and I came from Hyd\n",
      "My name is ajay , Im 20 years old and I came from Hyd\n"
     ]
    }
   ],
   "source": [
    "#Name='ajay'\n",
    "#Age='20'\n",
    "#City='Hyd'\n",
    "# My name is ajay , Im 20 years old and came from Hyd\n",
    "name='ajay'\n",
    "age=20\n",
    "city='Hyd'\n",
    "print(\"My name is ajay, Im 20 years old and I came from Hyd\")\n",
    "print(\"My name is\", name,',',\"Im\", age, \"years old and I came from\",city)"
   ]
  },
  {
   "cell_type": "markdown",
   "id": "4e76b428-14f9-4cba-9655-135b15ad35f3",
   "metadata": {},
   "source": [
    "**Format method**"
   ]
  },
  {
   "cell_type": "code",
   "execution_count": 49,
   "id": "0a1ed797-7238-43c8-b259-9f4f28a92b66",
   "metadata": {},
   "outputs": [
    {
     "name": "stdout",
     "output_type": "stream",
     "text": [
      "The addition of 10,20 is 30\n",
      "The addition of {},{} is {}\n",
      "The addition of 10,20 is 30\n"
     ]
    }
   ],
   "source": [
    "a=10\n",
    "b=20\n",
    "c=a+b\n",
    "# How you want to write the print\n",
    "# the addition of 10, 20 is 30\n",
    "print(\"The addition of 10,20 is 30\")\n",
    "print(\"The addition of {},{} is {}\")\n",
    "print(\"The addition of {},{} is {}\".format(a,b,c))"
   ]
  },
  {
   "cell_type": "code",
   "execution_count": 53,
   "id": "04916e1f-2326-4174-b66f-f247168004d2",
   "metadata": {},
   "outputs": [
    {
     "name": "stdout",
     "output_type": "stream",
     "text": [
      "My name is ajay, Im 20 years old and I came from Hyd\n",
      "My name is ajay, Im 20 years old and I came from Hyd\n",
      "My name is Hyd, Im 20 years old and I came from ajay\n"
     ]
    }
   ],
   "source": [
    "name='ajay'\n",
    "age=20\n",
    "city='Hyd'\n",
    "print(\"My name is ajay, Im 20 years old and I came from Hyd\")\n",
    "print(\"My name is {}, Im {} years old and I came from {}\".format(name,age,city))\n",
    "print(\"My name is {}, Im {} years old and I came from {}\".format(city,age,name))"
   ]
  },
  {
   "cell_type": "code",
   "execution_count": 57,
   "id": "87eda6d1-fd98-4aa6-a02a-c73f1dedf77b",
   "metadata": {},
   "outputs": [],
   "source": [
    "# Take two number \n",
    "# add\n",
    "#mul\n",
    "#sub\n",
    "#div\n",
    "#n1=<number one>\n",
    "# n2=<number two>\n",
    "# add=<>\n",
    "# sub=<>\n",
    "# mul=<>\n",
    "# div=<>\n",
    "# the addition of n1 and n2  is add\n",
    "# the subtraction of n1 and n2 is sub"
   ]
  },
  {
   "cell_type": "code",
   "execution_count": 59,
   "id": "b559d0e9-fe75-4575-849d-d476e08ca768",
   "metadata": {},
   "outputs": [
    {
     "name": "stdout",
     "output_type": "stream",
     "text": [
      "The addition of 100 and 200 is 300\n",
      "The subtraction of 100 and 200 is -100\n",
      "The multuplication of 100 and 200 is 20000\n",
      "The division of 100 and 200 is 0.5\n"
     ]
    }
   ],
   "source": [
    "n1=100\n",
    "n2=200\n",
    "add=n1+n2\n",
    "sub=n1-n2\n",
    "mul=n1*n2\n",
    "div=n1/n2\n",
    "print(\"The addition of {} and {} is {}\".format(n1,n2,add))\n",
    "print(\"The subtraction of {} and {} is {}\".format(n1,n2,sub))\n",
    "print(\"The multuplication of {} and {} is {}\".format(n1,n2,mul))\n",
    "print(\"The division of {} and {} is {}\".format(n1,n2,div))"
   ]
  },
  {
   "cell_type": "markdown",
   "id": "34227b6f-3b7e-4b1f-804d-577c7116bd3c",
   "metadata": {},
   "source": [
    "**F-string method**"
   ]
  },
  {
   "cell_type": "code",
   "execution_count": 36,
   "id": "308f3733-e995-4146-9d5e-f9b6089bc8cb",
   "metadata": {},
   "outputs": [
    {
     "name": "stdout",
     "output_type": "stream",
     "text": [
      "The addition of 10,20 is 30\n",
      "The addition of {},{} is {} \n",
      "The addition of {a},{b} is {c} \n",
      "The addition of 10,20 is 30 \n"
     ]
    }
   ],
   "source": [
    "a=10\n",
    "b=20\n",
    "c=a+b\n",
    "# How you want to write the print\n",
    "# the addition of 10,20 is 30\n",
    "print(\"The addition of 10,20 is 30\")\n",
    "print(\"The addition of {},{} is {} \")\n",
    "print(\"The addition of {a},{b} is {c} \")\n",
    "print(f\"The addition of {a},{b} is {c} \")"
   ]
  },
  {
   "cell_type": "code",
   "execution_count": 64,
   "id": "e92178c8-b129-4d0e-a971-6616cd080b05",
   "metadata": {},
   "outputs": [
    {
     "name": "stdout",
     "output_type": "stream",
     "text": [
      "My name is python, Im 10 years old and I came from Hyd\n",
      "My name is python , Im 10 years old and I came from Hyd\n",
      "My name is python, Im 10 years old and I came from Hyd\n",
      "My name is python, Im 10 years old and I came from Hyd\n"
     ]
    }
   ],
   "source": [
    "name='python'\n",
    "age=10\n",
    "city='Hyd'\n",
    "print(\"My name is python, Im 10 years old and I came from Hyd\")\n",
    "print(\"My name is\", name,',',\"Im\", age, \"years old and I came from\",city)\n",
    "print(\"My name is {}, Im {} years old and I came from {}\".format(name,age,city))\n",
    "print(f\"My name is {name}, Im {age} years old and I came from {city}\")"
   ]
  },
  {
   "cell_type": "code",
   "execution_count": 66,
   "id": "043db310-55da-493e-9fe5-81f895a73bf4",
   "metadata": {},
   "outputs": [
    {
     "name": "stdout",
     "output_type": "stream",
     "text": [
      "The addition of 100 and 200 is 300\n",
      "The subtraction of 100 and 200 is -100\n",
      "The multuplication of 100 and 200 is 20000\n",
      "The division of 100 and 200 is 0.5\n"
     ]
    }
   ],
   "source": [
    "n1=100\n",
    "n2=200\n",
    "add=n1+n2\n",
    "sub=n1-n2\n",
    "mul=n1*n2\n",
    "div=n1/n2\n",
    "print(f\"The addition of {n1} and {n2} is {add}\")\n",
    "print(f\"The subtraction of {n1} and {n2} is {sub}\")\n",
    "print(f\"The multuplication of {n1} and {n2} is {mul}\")\n",
    "print(f\"The division of {n1} and {n2} is {div}\")\n",
    "# The addition is add,The subtraction is sub,The multiplication mul, the divisio"
   ]
  },
  {
   "cell_type": "code",
   "execution_count": 80,
   "id": "d40825f7-8fb7-42df-8a37-7e0974898be4",
   "metadata": {},
   "outputs": [
    {
     "name": "stdout",
     "output_type": "stream",
     "text": [
      "The addition is 300,The subtraction is -100,The multiplication 20000,The division is 0.5\n"
     ]
    }
   ],
   "source": [
    "print(f\"The addition is {add},The subtraction is {sub},The multiplication {mul},The division is {div}\")"
   ]
  },
  {
   "cell_type": "markdown",
   "id": "05982c05-ebab-4f62-a4cc-4a823101614d",
   "metadata": {},
   "source": [
    "**end**"
   ]
  },
  {
   "cell_type": "code",
   "execution_count": 83,
   "id": "e4232e80-e92c-412b-83e0-f9426713a692",
   "metadata": {},
   "outputs": [
    {
     "name": "stdout",
     "output_type": "stream",
     "text": [
      "10\n",
      "20\n"
     ]
    }
   ],
   "source": [
    "print(10)\n",
    "print(20)\n",
    "# Using two print statments\n",
    "# we need to write 10,20"
   ]
  },
  {
   "cell_type": "code",
   "execution_count": 85,
   "id": "1d288859-8486-4d2b-8598-344a282e1a89",
   "metadata": {},
   "outputs": [
    {
     "name": "stdout",
     "output_type": "stream",
     "text": [
      "10 20\n"
     ]
    }
   ],
   "source": [
    "print(10,20)"
   ]
  },
  {
   "cell_type": "code",
   "execution_count": 87,
   "id": "8f6da35b-33e7-4edf-9ae8-ee254bbc1506",
   "metadata": {},
   "outputs": [
    {
     "name": "stdout",
     "output_type": "stream",
     "text": [
      "10 20\n"
     ]
    }
   ],
   "source": [
    "print(10,end=' ')\n",
    "print(20)"
   ]
  },
  {
   "cell_type": "code",
   "execution_count": 93,
   "id": "a282947b-208c-48d4-afc4-76126580d44f",
   "metadata": {},
   "outputs": [
    {
     "name": "stdout",
     "output_type": "stream",
     "text": [
      "10-->20\n"
     ]
    }
   ],
   "source": [
    "print(10,end='-->')\n",
    "print(20)"
   ]
  },
  {
   "cell_type": "code",
   "execution_count": 95,
   "id": "580a9372-bda7-4ad5-aaf3-b28ec262cbb6",
   "metadata": {},
   "outputs": [
    {
     "name": "stdout",
     "output_type": "stream",
     "text": [
      "10-->20-->30\n"
     ]
    }
   ],
   "source": [
    "print(10,end='-->')\n",
    "print(20,end='-->')\n",
    "print(30)"
   ]
  },
  {
   "cell_type": "markdown",
   "id": "14810faa-9983-4f70-a4eb-d7b374d53791",
   "metadata": {},
   "source": [
    "**SEP**"
   ]
  },
  {
   "cell_type": "code",
   "execution_count": 98,
   "id": "5cf5d328-d73a-4a07-bf01-e08a5f1ec582",
   "metadata": {},
   "outputs": [],
   "source": [
    "# using one print statement\n",
    "# 10-->20-->30\n",
    "# print(10,'-->',20,'-->')\n",
    "# Sepearting the all values inside print statements"
   ]
  },
  {
   "cell_type": "code",
   "execution_count": 100,
   "id": "586feaa9-dd74-4f4d-98db-418d1c76b2ee",
   "metadata": {},
   "outputs": [
    {
     "name": "stdout",
     "output_type": "stream",
     "text": [
      "10-->20-->30\n",
      "10*20*30\n"
     ]
    }
   ],
   "source": [
    "print(10,20,30,sep='-->')\n",
    "print(10,20,30,sep='*')"
   ]
  },
  {
   "cell_type": "code",
   "execution_count": 102,
   "id": "a808bbe2-6324-4888-8de8-c50d83473565",
   "metadata": {},
   "outputs": [
    {
     "name": "stdout",
     "output_type": "stream",
     "text": [
      "10+20=30.\n"
     ]
    }
   ],
   "source": [
    "# 10+20=30\n",
    "print(10,end='+')\n",
    "print(20,end='=')\n",
    "print(30,'.',sep='')"
   ]
  },
  {
   "cell_type": "code",
   "execution_count": 104,
   "id": "40a052ef-9f82-4dfb-86c3-5c506e991728",
   "metadata": {},
   "outputs": [
    {
     "name": "stdout",
     "output_type": "stream",
     "text": [
      "10+20=30\n"
     ]
    }
   ],
   "source": [
    "print(10,20,sep='+',end='=')\n",
    "print(30)"
   ]
  },
  {
   "cell_type": "markdown",
   "id": "fab70c43-c6c8-4bde-afc2-1b5651c21b5b",
   "metadata": {},
   "source": [
    "- Format method\n",
    "- F string method\n",
    "- sep\n",
    "- end"
   ]
  },
  {
   "cell_type": "code",
   "execution_count": 107,
   "id": "8695844a-c643-446e-a22a-26d07b0dd87f",
   "metadata": {},
   "outputs": [
    {
     "name": "stdout",
     "output_type": "stream",
     "text": [
      "my name is ajay\n",
      "my name is ajay\n"
     ]
    }
   ],
   "source": [
    "name='ajay'\n",
    "print(\"my name is ajay\")\n",
    "print(\"my name is {}\".format(name))"
   ]
  },
  {
   "cell_type": "code",
   "execution_count": 109,
   "id": "fb5b4dd7-dfc8-4611-8dde-3028d10ddbf0",
   "metadata": {},
   "outputs": [
    {
     "name": "stdout",
     "output_type": "stream",
     "text": [
      "10 20\n"
     ]
    }
   ],
   "source": [
    "# Sepearting the all values inside print statement\n",
    "# end will join the multiple print statement values\n",
    "print(10,end=' ')\n",
    "print(20)"
   ]
  },
  {
   "cell_type": "code",
   "execution_count": 116,
   "id": "03e87840-d73d-4642-a5ae-44aef7e1e29c",
   "metadata": {},
   "outputs": [
    {
     "name": "stdout",
     "output_type": "stream",
     "text": [
      "10ajay20\n"
     ]
    }
   ],
   "source": [
    "print(10,20,sep='ajay')"
   ]
  }
 ],
 "metadata": {
  "kernelspec": {
   "display_name": "Python 3 (ipykernel)",
   "language": "python",
   "name": "python3"
  },
  "language_info": {
   "codemirror_mode": {
    "name": "ipython",
    "version": 3
   },
   "file_extension": ".py",
   "mimetype": "text/x-python",
   "name": "python",
   "nbconvert_exporter": "python",
   "pygments_lexer": "ipython3",
   "version": "3.12.4"
  }
 },
 "nbformat": 4,
 "nbformat_minor": 5
}
