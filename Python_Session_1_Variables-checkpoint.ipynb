{
 "cells": [
  {
   "cell_type": "markdown",
   "id": "95d5ea1d-9f68-488a-9f71-6ab2ff40a3a5",
   "metadata": {},
   "source": [
    "**Variables**"
   ]
  },
  {
   "cell_type": "markdown",
   "id": "4e3e289c-e4c5-4b5e-baf8-b72c92910903",
   "metadata": {},
   "source": [
    "- variables are used to store the values\n",
    "- Variables can change their values\n",
    "- varyyyy:varing"
   ]
  },
  {
   "cell_type": "code",
   "execution_count": 3,
   "id": "a1f5ca2d-97e2-49eb-873d-c04b1b52ba8e",
   "metadata": {},
   "outputs": [
    {
     "data": {
      "text/plain": [
       "100"
      ]
     },
     "execution_count": 3,
     "metadata": {},
     "output_type": "execute_result"
    }
   ],
   "source": [
    "number=100\n",
    "number\n",
    "\n",
    "#100 is store in a variable called 'number'"
   ]
  },
  {
   "cell_type": "code",
   "execution_count": 5,
   "id": "65cfcbe5-03ce-4cc2-8cb5-b10278f2f8a7",
   "metadata": {},
   "outputs": [
    {
     "data": {
      "text/plain": [
       "200"
      ]
     },
     "execution_count": 5,
     "metadata": {},
     "output_type": "execute_result"
    }
   ],
   "source": [
    "number=200\n",
    "number"
   ]
  },
  {
   "cell_type": "markdown",
   "id": "b5ba4057-c7ef-434d-83b9-25c4e7e7ae0e",
   "metadata": {},
   "source": [
    "Ajay is learning python code mode is used to write the code markdown mode is used to write the story\n",
    "\n",
    "square brackets are there before cell:code mode esc+m"
   ]
  },
  {
   "cell_type": "code",
   "execution_count": 8,
   "id": "ea87d0db-2996-4f91-bb55-4bca2c1322d7",
   "metadata": {},
   "outputs": [],
   "source": [
    "ajay=500\n",
    "#500 is a value stored in a variable ajay"
   ]
  },
  {
   "cell_type": "code",
   "execution_count": 10,
   "id": "d3d86e58-2106-42f3-90b4-627780596d53",
   "metadata": {},
   "outputs": [
    {
     "data": {
      "text/plain": [
       "50000"
      ]
     },
     "execution_count": 10,
     "metadata": {},
     "output_type": "execute_result"
    }
   ],
   "source": [
    "ajay=50000\n",
    "ajay"
   ]
  },
  {
   "cell_type": "code",
   "execution_count": 12,
   "id": "85b9791f-d482-4a8f-abc2-61de3e3a7513",
   "metadata": {},
   "outputs": [
    {
     "data": {
      "text/plain": [
       "5000000"
      ]
     },
     "execution_count": 12,
     "metadata": {},
     "output_type": "execute_result"
    }
   ],
   "source": [
    "ajay=5000000\n",
    "ajay"
   ]
  },
  {
   "cell_type": "code",
   "execution_count": 14,
   "id": "f86e1831-1ecd-4e8e-9094-29e7cf67050b",
   "metadata": {},
   "outputs": [
    {
     "data": {
      "text/plain": [
       "25000"
      ]
     },
     "execution_count": 14,
     "metadata": {},
     "output_type": "execute_result"
    }
   ],
   "source": [
    "ajay1=25000\n",
    "ajay1\n",
    "#type aj\n",
    "#enter tab\n",
    "#you can see the names which are starting with 'aj'"
   ]
  },
  {
   "cell_type": "code",
   "execution_count": 16,
   "id": "05f6433d-9ed1-47f1-926e-20aa06d555e2",
   "metadata": {},
   "outputs": [],
   "source": [
    "archana=100"
   ]
  },
  {
   "cell_type": "code",
   "execution_count": 18,
   "id": "dedfb1f0-d6a2-426e-83d5-dfa6d8d85865",
   "metadata": {},
   "outputs": [
    {
     "data": {
      "text/plain": [
       "200"
      ]
     },
     "execution_count": 18,
     "metadata": {},
     "output_type": "execute_result"
    }
   ],
   "source": [
    "NUMBER=200\n",
    "NUMBER"
   ]
  },
  {
   "cell_type": "code",
   "execution_count": 20,
   "id": "ae0d9296-a574-48d1-abe3-c81532858a99",
   "metadata": {},
   "outputs": [
    {
     "data": {
      "text/plain": [
       "300"
      ]
     },
     "execution_count": 20,
     "metadata": {},
     "output_type": "execute_result"
    }
   ],
   "source": [
    "NUMber=300\n",
    "NUMber"
   ]
  },
  {
   "cell_type": "code",
   "execution_count": 22,
   "id": "48cf7e9e-d5d8-44fb-8cf5-75d072f0f3d9",
   "metadata": {},
   "outputs": [
    {
     "data": {
      "text/plain": [
       "400"
      ]
     },
     "execution_count": 22,
     "metadata": {},
     "output_type": "execute_result"
    }
   ],
   "source": [
    "number123=400\n",
    "number123"
   ]
  },
  {
   "cell_type": "code",
   "execution_count": 26,
   "id": "40692a10-8d68-4ed8-bea8-0b73f1b01f3d",
   "metadata": {},
   "outputs": [
    {
     "ename": "SyntaxError",
     "evalue": "invalid decimal literal (2863714758.py, line 1)",
     "output_type": "error",
     "traceback": [
      "\u001b[1;36m  Cell \u001b[1;32mIn[26], line 1\u001b[1;36m\u001b[0m\n\u001b[1;33m    123number=500\u001b[0m\n\u001b[1;37m      ^\u001b[0m\n\u001b[1;31mSyntaxError\u001b[0m\u001b[1;31m:\u001b[0m invalid decimal literal\n"
     ]
    }
   ],
   "source": [
    "123number=500\n",
    "123\n",
    "#variables does not have numbers as prefix\n",
    "#variables should not starts with numbers"
   ]
  },
  {
   "cell_type": "code",
   "execution_count": 32,
   "id": "d6e3a146-5927-48a6-b043-6ea7e3ccc59e",
   "metadata": {},
   "outputs": [
    {
     "ename": "SyntaxError",
     "evalue": "cannot assign to expression here. Maybe you meant '==' instead of '='? (609003844.py, line 1)",
     "output_type": "error",
     "traceback": [
      "\u001b[1;36m  Cell \u001b[1;32mIn[32], line 1\u001b[1;36m\u001b[0m\n\u001b[1;33m    Number*one=500\u001b[0m\n\u001b[1;37m    ^\u001b[0m\n\u001b[1;31mSyntaxError\u001b[0m\u001b[1;31m:\u001b[0m cannot assign to expression here. Maybe you meant '==' instead of '='?\n"
     ]
    }
   ],
   "source": [
    "Number*one=500\n",
    "Number*one\n",
    "#variables does not have special characters"
   ]
  },
  {
   "cell_type": "code",
   "execution_count": 34,
   "id": "97778ef0-2477-4760-8e56-494ece384444",
   "metadata": {},
   "outputs": [
    {
     "data": {
      "text/plain": [
       "600"
      ]
     },
     "execution_count": 34,
     "metadata": {},
     "output_type": "execute_result"
    }
   ],
   "source": [
    "number_one=600\n",
    "number_one"
   ]
  },
  {
   "cell_type": "code",
   "execution_count": 36,
   "id": "62f9c591-8338-4e93-849e-ccfc9b32eac2",
   "metadata": {},
   "outputs": [
    {
     "data": {
      "text/plain": [
       "900"
      ]
     },
     "execution_count": 36,
     "metadata": {},
     "output_type": "execute_result"
    }
   ],
   "source": [
    "_=900\n",
    "_\n",
    "#only underscore can represent as variables"
   ]
  },
  {
   "cell_type": "markdown",
   "id": "fa768473-3ce3-4d63-ac91-2c4a64d122ce",
   "metadata": {},
   "source": [
    "- Variables sre case sensitive\n",
    "- Variables can represent as capital letters\n",
    "- Variables can represent as small letters\n",
    "- Variables can have both combinations\n",
    "- Python will consider latest value\n",
    "- Variables does not starts with numbers\n",
    "- Variables can have numbers at last\n",
    "- Variales does not contains any special characters except Underscore\n",
    "- Variables does not contains any space between the letters : number one\n",
    "- Only underscore can use as variables\n",
    "- Keywords or reserved words will not use Variables :if,else"
   ]
  },
  {
   "cell_type": "code",
   "execution_count": 39,
   "id": "c2974ec8-a2a6-4196-9fe2-6ed293161e65",
   "metadata": {},
   "outputs": [
    {
     "data": {
      "text/plain": [
       "900"
      ]
     },
     "execution_count": 39,
     "metadata": {},
     "output_type": "execute_result"
    }
   ],
   "source": [
    "number_123_two=900\n",
    "number_123_two"
   ]
  },
  {
   "cell_type": "code",
   "execution_count": null,
   "id": "97d55899-90bb-4d12-833e-2d8f9f46f001",
   "metadata": {},
   "outputs": [],
   "source": []
  }
 ],
 "metadata": {
  "kernelspec": {
   "display_name": "Python 3 (ipykernel)",
   "language": "python",
   "name": "python3"
  },
  "language_info": {
   "codemirror_mode": {
    "name": "ipython",
    "version": 3
   },
   "file_extension": ".py",
   "mimetype": "text/x-python",
   "name": "python",
   "nbconvert_exporter": "python",
   "pygments_lexer": "ipython3",
   "version": "3.12.4"
  }
 },
 "nbformat": 4,
 "nbformat_minor": 5
}
