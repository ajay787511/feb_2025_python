{
 "cells": [
  {
   "cell_type": "markdown",
   "id": "63f5fbce-62a4-4ee5-8c99-53df32577baa",
   "metadata": {},
   "source": [
    "- **Integer to other data types**"
   ]
  },
  {
   "cell_type": "code",
   "execution_count": null,
   "id": "6cd7bc1d-b652-4596-9396-9f21e9a02aad",
   "metadata": {},
   "outputs": [],
   "source": [
    "num1=100\n",
    "type(num1)"
   ]
  },
  {
   "cell_type": "code",
   "execution_count": null,
   "id": "cb877032-3586-4182-831f-fc63f62e23f2",
   "metadata": {},
   "outputs": [],
   "source": [
    "num_float=float(num1)\n",
    "num_float"
   ]
  },
  {
   "cell_type": "code",
   "execution_count": null,
   "id": "31d80800-5a70-49e7-875a-25467afbd036",
   "metadata": {},
   "outputs": [],
   "source": [
    "type(num_float)"
   ]
  },
  {
   "cell_type": "code",
   "execution_count": 15,
   "id": "25b08cd9-a92d-4bf0-b955-3b241038bada",
   "metadata": {},
   "outputs": [
    {
     "data": {
      "text/plain": [
       "10"
      ]
     },
     "execution_count": 15,
     "metadata": {},
     "output_type": "execute_result"
    }
   ],
   "source": [
    "python"
   ]
  },
  {
   "cell_type": "code",
   "execution_count": 25,
   "id": "5b63acbb-53ec-4e54-a70e-74a51a20a78b",
   "metadata": {},
   "outputs": [],
   "source": [
    "python=10"
   ]
  },
  {
   "cell_type": "code",
   "execution_count": 28,
   "id": "8cb7e27f-db48-45c4-8284-26517a793525",
   "metadata": {},
   "outputs": [
    {
     "ename": "NameError",
     "evalue": "name 'naresh' is not defined",
     "output_type": "error",
     "traceback": [
      "\u001b[1;31m---------------------------------------------------------------------------\u001b[0m",
      "\u001b[1;31mNameError\u001b[0m                                 Traceback (most recent call last)",
      "Cell \u001b[1;32mIn[28], line 1\u001b[0m\n\u001b[1;32m----> 1\u001b[0m naresh\n",
      "\u001b[1;31mNameError\u001b[0m: name 'naresh' is not defined"
     ]
    }
   ],
   "source": [
    "naresh"
   ]
  },
  {
   "cell_type": "markdown",
   "id": "ba2239fd-89e6-425a-a043-79d158e9c677",
   "metadata": {},
   "source": [
    "- num1 is a variables,stored value:100\n",
    "- num1 is a integer type\n",
    "- to convert float, float(num1)\n",
    "- float(num1) given 100.0\n",
    "- float(num1) stored in a variables:num_float\n",
    "- num_ float is float type\n",
    "                        "
   ]
  },
  {
   "cell_type": "markdown",
   "id": "bd89fc18-cf27-470d-9e66-de67f350f5c6",
   "metadata": {},
   "source": [
    "**name error**\n",
    "\n",
    "- whenevar if we see name error means that corresponding variables not intiali\n",
    "- for example in above naresh is a variables \n",
    "- is not fdefined before,thats why we are geting erro\n",
    "- so go the above the line and search for variable:naresh\n",
    "- if you fell thet is alresdy defind then run again"
   ]
  },
  {
   "cell_type": "code",
   "execution_count": 30,
   "id": "2584a621-e9f2-4786-9bf0-7b1c98e7a81b",
   "metadata": {},
   "outputs": [
    {
     "data": {
      "text/plain": [
       "'100'"
      ]
     },
     "execution_count": 30,
     "metadata": {},
     "output_type": "execute_result"
    }
   ],
   "source": [
    "#integer to string conversion\n",
    "num1=100\n",
    "num_string=str(num1)\n",
    "num_string"
   ]
  },
  {
   "cell_type": "code",
   "execution_count": 34,
   "id": "97345c3b-7a6a-452c-8a8a-49e564feb007",
   "metadata": {},
   "outputs": [
    {
     "data": {
      "text/plain": [
       "str"
      ]
     },
     "execution_count": 34,
     "metadata": {},
     "output_type": "execute_result"
    }
   ],
   "source": [
    "type(num_string)"
   ]
  },
  {
   "cell_type": "code",
   "execution_count": 38,
   "id": "c3d563ab-33bc-4594-a2e0-1867c9e34b49",
   "metadata": {},
   "outputs": [
    {
     "data": {
      "text/plain": [
       "True"
      ]
     },
     "execution_count": 38,
     "metadata": {},
     "output_type": "execute_result"
    }
   ],
   "source": [
    "# integer to bool conversion\n",
    "num1=100\n",
    "num_bool=bool(num1)\n",
    "num_bool"
   ]
  },
  {
   "cell_type": "code",
   "execution_count": 40,
   "id": "043879b3-efaf-47d5-9c03-d3f0e2966223",
   "metadata": {},
   "outputs": [
    {
     "data": {
      "text/plain": [
       "bool"
      ]
     },
     "execution_count": 40,
     "metadata": {},
     "output_type": "execute_result"
    }
   ],
   "source": [
    "type(num_bool)"
   ]
  },
  {
   "cell_type": "code",
   "execution_count": 42,
   "id": "92a1da5b-34f1-406d-b482-1e8e0fc36555",
   "metadata": {},
   "outputs": [
    {
     "data": {
      "text/plain": [
       "True"
      ]
     },
     "execution_count": 42,
     "metadata": {},
     "output_type": "execute_result"
    }
   ],
   "source": [
    "num2=-100\n",
    "num2_bool=bool(num2)\n",
    "num2_bool"
   ]
  },
  {
   "cell_type": "code",
   "execution_count": 46,
   "id": "577973c2-87ec-40df-b00b-ffbb55cd017c",
   "metadata": {},
   "outputs": [
    {
     "data": {
      "text/plain": [
       "False"
      ]
     },
     "execution_count": 46,
     "metadata": {},
     "output_type": "execute_result"
    }
   ],
   "source": [
    "num3=0\n",
    "num3_bool=bool(num3)\n",
    "num3_bool"
   ]
  },
  {
   "cell_type": "markdown",
   "id": "26301ae6-5f68-4b60-91d7-332e2484f476",
   "metadata": {},
   "source": [
    "**NOTE**"
   ]
  },
  {
   "cell_type": "markdown",
   "id": "3cefe1b6-6c86-42cb-bf12-7692dcf2ded1",
   "metadata": {},
   "source": [
    "- When boolean conversion of integer given False\n",
    "- For 0 value, it given false"
   ]
  },
  {
   "cell_type": "code",
   "execution_count": 51,
   "id": "f79cdaf1-440f-45b9-920f-684216550ee4",
   "metadata": {},
   "outputs": [
    {
     "data": {
      "text/plain": [
       "(100.0, '100', True)"
      ]
     },
     "execution_count": 51,
     "metadata": {},
     "output_type": "execute_result"
    }
   ],
   "source": [
    "num1=100\n",
    "num1_float=float(num1)\n",
    "num1_str=str(num1)\n",
    "num1_bool=bool(num1)\n",
    "num1_float,num1_string,num1_bool"
   ]
  },
  {
   "cell_type": "code",
   "execution_count": 53,
   "id": "bf7e5b0a-7d18-403e-ae9c-b6ae9c57e0b0",
   "metadata": {},
   "outputs": [
    {
     "data": {
      "text/plain": [
       "(1000.0, '1000', True)"
      ]
     },
     "execution_count": 53,
     "metadata": {},
     "output_type": "execute_result"
    }
   ],
   "source": [
    "float(1000),str(1000),bool(1000)"
   ]
  },
  {
   "cell_type": "code",
   "execution_count": 55,
   "id": "aecfa5c1-d572-4d7f-9736-e14d9e7796b6",
   "metadata": {},
   "outputs": [
    {
     "data": {
      "text/plain": [
       "(10, 20, 30)"
      ]
     },
     "execution_count": 55,
     "metadata": {},
     "output_type": "execute_result"
    }
   ],
   "source": [
    "10,20,30"
   ]
  },
  {
   "cell_type": "markdown",
   "id": "ed84aea9-01e0-463a-9ea2-9b5153269bbd",
   "metadata": {},
   "source": [
    "**Float to other data type**"
   ]
  },
  {
   "cell_type": "code",
   "execution_count": 44,
   "id": "cf859288-1909-4130-bb59-5e2fd675b0c3",
   "metadata": {},
   "outputs": [
    {
     "data": {
      "text/plain": [
       "(300, '300', True)"
      ]
     },
     "execution_count": 44,
     "metadata": {},
     "output_type": "execute_result"
    }
   ],
   "source": [
    "num1=300\n",
    "num1_int=int(num1)\n",
    "num1_string=str(num1)\n",
    "num1_bool=bool(num1)\n",
    "num1_int,num1_string,num1_bool"
   ]
  },
  {
   "cell_type": "code",
   "execution_count": 50,
   "id": "b12df9ab-97b4-4fc0-b019-656baf42ef9b",
   "metadata": {},
   "outputs": [
    {
     "data": {
      "text/plain": [
       "(0, '0.0', False)"
      ]
     },
     "execution_count": 50,
     "metadata": {},
     "output_type": "execute_result"
    }
   ],
   "source": [
    "int(0.0),str(0.0),bool(0.0)"
   ]
  },
  {
   "cell_type": "code",
   "execution_count": 57,
   "id": "1c2807f5-86c7-4240-a772-4879bbe2c715",
   "metadata": {},
   "outputs": [
    {
     "name": "stdout",
     "output_type": "stream",
     "text": [
      "100\n"
     ]
    }
   ],
   "source": [
    "print(num1_str)"
   ]
  },
  {
   "cell_type": "markdown",
   "id": "560eba6a-01e0-43fa-8920-6746d691efaf",
   "metadata": {},
   "source": [
    "- first mistake conversion\n",
    "- printing the string value\n",
    "- providing some gap"
   ]
  },
  {
   "cell_type": "code",
   "execution_count": 60,
   "id": "a51aafc9-161f-44f8-adce-30e9104b2d3c",
   "metadata": {},
   "outputs": [
    {
     "data": {
      "text/plain": [
       "(0, '0.0', False)"
      ]
     },
     "execution_count": 60,
     "metadata": {},
     "output_type": "execute_result"
    }
   ],
   "source": [
    "int(0.0),str(0.0),bool(0.0)"
   ]
  },
  {
   "cell_type": "markdown",
   "id": "62c4b40a-d65d-4f78-8dd8-c1a0498550e5",
   "metadata": {},
   "source": [
    "-**String to other data type**"
   ]
  },
  {
   "cell_type": "code",
   "execution_count": 63,
   "id": "3719960c-291a-4710-8723-797f1141f98b",
   "metadata": {},
   "outputs": [
    {
     "ename": "ValueError",
     "evalue": "invalid literal for int() with base 10: 'apple'",
     "output_type": "error",
     "traceback": [
      "\u001b[1;31m---------------------------------------------------------------------------\u001b[0m",
      "\u001b[1;31mValueError\u001b[0m                                Traceback (most recent call last)",
      "Cell \u001b[1;32mIn[63], line 3\u001b[0m\n\u001b[0;32m      1\u001b[0m \u001b[38;5;66;03m# case-1:\u001b[39;00m\n\u001b[0;32m      2\u001b[0m \u001b[38;5;28mstr\u001b[39m\u001b[38;5;241m=\u001b[39m\u001b[38;5;124m'\u001b[39m\u001b[38;5;124mapple\u001b[39m\u001b[38;5;124m'\u001b[39m\n\u001b[1;32m----> 3\u001b[0m \u001b[38;5;28mint\u001b[39m(\u001b[38;5;124m'\u001b[39m\u001b[38;5;124mapple\u001b[39m\u001b[38;5;124m'\u001b[39m) \u001b[38;5;66;03m# error\u001b[39;00m\n\u001b[0;32m      4\u001b[0m \u001b[38;5;28mfloat\u001b[39m(\u001b[38;5;124m'\u001b[39m\u001b[38;5;124mapple\u001b[39m\u001b[38;5;124m'\u001b[39m) \u001b[38;5;66;03m# error\u001b[39;00m\n\u001b[0;32m      5\u001b[0m \u001b[38;5;28mbool\u001b[39m(\u001b[38;5;124m'\u001b[39m\u001b[38;5;124mapple\u001b[39m\u001b[38;5;124m'\u001b[39m)\n",
      "\u001b[1;31mValueError\u001b[0m: invalid literal for int() with base 10: 'apple'"
     ]
    }
   ],
   "source": [
    "# case-1:\n",
    "str='apple'\n",
    "int('apple') # error\n",
    "float('apple') # error\n",
    "bool('apple') # True"
   ]
  },
  {
   "cell_type": "code",
   "execution_count": 65,
   "id": "4fd4469e-fbed-47d4-a719-3cb133fec4ff",
   "metadata": {},
   "outputs": [
    {
     "ename": "ValueError",
     "evalue": "invalid literal for int() with base 10: 'apple123'",
     "output_type": "error",
     "traceback": [
      "\u001b[1;31m---------------------------------------------------------------------------\u001b[0m",
      "\u001b[1;31mValueError\u001b[0m                                Traceback (most recent call last)",
      "Cell \u001b[1;32mIn[65], line 3\u001b[0m\n\u001b[0;32m      1\u001b[0m \u001b[38;5;66;03m# case-2:\u001b[39;00m\n\u001b[0;32m      2\u001b[0m \u001b[38;5;28mstr\u001b[39m\u001b[38;5;241m=\u001b[39m\u001b[38;5;124m'\u001b[39m\u001b[38;5;124mapple123\u001b[39m\u001b[38;5;124m'\u001b[39m\n\u001b[1;32m----> 3\u001b[0m \u001b[38;5;28mint\u001b[39m(\u001b[38;5;124m'\u001b[39m\u001b[38;5;124mapple123\u001b[39m\u001b[38;5;124m'\u001b[39m)\n",
      "\u001b[1;31mValueError\u001b[0m: invalid literal for int() with base 10: 'apple123'"
     ]
    }
   ],
   "source": [
    "# case-2:\n",
    "str='apple123'\n",
    "int('apple123') # Error"
   ]
  },
  {
   "cell_type": "code",
   "execution_count": 67,
   "id": "e3b25dd0-0174-469b-bbc7-ba7a7af368dc",
   "metadata": {},
   "outputs": [
    {
     "ename": "SyntaxError",
     "evalue": "incomplete input (1178177161.py, line 1)",
     "output_type": "error",
     "traceback": [
      "\u001b[1;36m  Cell \u001b[1;32mIn[67], line 1\u001b[1;36m\u001b[0m\n\u001b[1;33m    float('apple123'\u001b[0m\n\u001b[1;37m                    ^\u001b[0m\n\u001b[1;31mSyntaxError\u001b[0m\u001b[1;31m:\u001b[0m incomplete input\n"
     ]
    }
   ],
   "source": [
    "float('apple123') # error\n",
    "bool('apple123') # True"
   ]
  },
  {
   "cell_type": "code",
   "execution_count": 84,
   "id": "b29dedf0-62ea-4e7e-82f0-5317ef76db4c",
   "metadata": {},
   "outputs": [
    {
     "ename": "TypeError",
     "evalue": "'float' object is not callable",
     "output_type": "error",
     "traceback": [
      "\u001b[1;31m---------------------------------------------------------------------------\u001b[0m",
      "\u001b[1;31mTypeError\u001b[0m                                 Traceback (most recent call last)",
      "Cell \u001b[1;32mIn[84], line 3\u001b[0m\n\u001b[0;32m      1\u001b[0m \u001b[38;5;66;03m# case-3:\u001b[39;00m\n\u001b[0;32m      2\u001b[0m \u001b[38;5;28mstr\u001b[39m\u001b[38;5;241m=\u001b[39m\u001b[38;5;124m'\u001b[39m\u001b[38;5;124m0\u001b[39m\u001b[38;5;124m'\u001b[39m\n\u001b[1;32m----> 3\u001b[0m \u001b[38;5;28mint\u001b[39m(\u001b[38;5;124m'\u001b[39m\u001b[38;5;124m0\u001b[39m\u001b[38;5;124m'\u001b[39m)  \u001b[38;5;66;03m# 0\u001b[39;00m\n\u001b[0;32m      4\u001b[0m \u001b[38;5;28mfloat\u001b[39m(\u001b[38;5;124m'\u001b[39m\u001b[38;5;124m0\u001b[39m\u001b[38;5;124m'\u001b[39m) \u001b[38;5;66;03m# 0.0\u001b[39;00m\n\u001b[0;32m      5\u001b[0m \u001b[38;5;28mbool\u001b[39m(\u001b[38;5;124m'\u001b[39m\u001b[38;5;124m0\u001b[39m\u001b[38;5;124m'\u001b[39m)\n",
      "\u001b[1;31mTypeError\u001b[0m: 'float' object is not callable"
     ]
    }
   ],
   "source": [
    "# case-3:\n",
    "str'0'\n",
    "int('0')  # 0\n",
    "float('0') # 0.0\n",
    "bool('0') # True"
   ]
  },
  {
   "cell_type": "code",
   "execution_count": 86,
   "id": "bf9ad5f0-91a2-49bb-b8c1-2652f2826551",
   "metadata": {},
   "outputs": [],
   "source": [
    "# case-4:\n",
    "str=('')\n",
    "int=('')  # error\n",
    "float=('') # error\n",
    "bool=('') # false"
   ]
  },
  {
   "cell_type": "code",
   "execution_count": 88,
   "id": "1225baef-dc3b-4840-9fdf-33d52515c9b1",
   "metadata": {},
   "outputs": [
    {
     "ename": "TypeError",
     "evalue": "'str' object is not callable",
     "output_type": "error",
     "traceback": [
      "\u001b[1;31m---------------------------------------------------------------------------\u001b[0m",
      "\u001b[1;31mTypeError\u001b[0m                                 Traceback (most recent call last)",
      "Cell \u001b[1;32mIn[88], line 3\u001b[0m\n\u001b[0;32m      1\u001b[0m \u001b[38;5;66;03m# case-5:\u001b[39;00m\n\u001b[0;32m      2\u001b[0m \u001b[38;5;28mstr\u001b[39m\u001b[38;5;241m=\u001b[39m(\u001b[38;5;124m'\u001b[39m\u001b[38;5;124m10.5\u001b[39m\u001b[38;5;124m'\u001b[39m)\n\u001b[1;32m----> 3\u001b[0m \u001b[38;5;28mint\u001b[39m(\u001b[38;5;124m'\u001b[39m\u001b[38;5;124m10.5\u001b[39m\u001b[38;5;124m'\u001b[39m)  \n\u001b[0;32m      4\u001b[0m \u001b[38;5;28mfloat\u001b[39m(\u001b[38;5;124m'\u001b[39m\u001b[38;5;124m10.5\u001b[39m\u001b[38;5;124m'\u001b[39m)\n\u001b[0;32m      5\u001b[0m \u001b[38;5;28mbool\u001b[39m(\u001b[38;5;124m'\u001b[39m\u001b[38;5;124m10.5\u001b[39m\u001b[38;5;124m'\u001b[39m)\n",
      "\u001b[1;31mTypeError\u001b[0m: 'str' object is not callable"
     ]
    }
   ],
   "source": [
    "# case-5:\n",
    "str='10'\n",
    "int('10')  # 10\n",
    "float('10') # 10.0\n",
    "bool('10') # True"
   ]
  },
  {
   "cell_type": "code",
   "execution_count": 69,
   "id": "0a5fffd8-294d-4ae0-bb6b-00561d414c85",
   "metadata": {},
   "outputs": [
    {
     "ename": "ValueError",
     "evalue": "invalid literal for int() with base 10: 'apple'",
     "output_type": "error",
     "traceback": [
      "\u001b[1;31m---------------------------------------------------------------------------\u001b[0m",
      "\u001b[1;31mValueError\u001b[0m                                Traceback (most recent call last)",
      "Cell \u001b[1;32mIn[69], line 1\u001b[0m\n\u001b[1;32m----> 1\u001b[0m \u001b[38;5;28mint\u001b[39m(\u001b[38;5;124m'\u001b[39m\u001b[38;5;124mapple\u001b[39m\u001b[38;5;124m'\u001b[39m)\n",
      "\u001b[1;31mValueError\u001b[0m: invalid literal for int() with base 10: 'apple'"
     ]
    }
   ],
   "source": [
    "int('apple')"
   ]
  },
  {
   "cell_type": "code",
   "execution_count": 71,
   "id": "f077b579-1c30-4fe0-98c4-aa0a2d1d7b60",
   "metadata": {},
   "outputs": [
    {
     "ename": "ValueError",
     "evalue": "could not convert string to float: 'apple'",
     "output_type": "error",
     "traceback": [
      "\u001b[1;31m---------------------------------------------------------------------------\u001b[0m",
      "\u001b[1;31mValueError\u001b[0m                                Traceback (most recent call last)",
      "Cell \u001b[1;32mIn[71], line 1\u001b[0m\n\u001b[1;32m----> 1\u001b[0m \u001b[38;5;28mfloat\u001b[39m(\u001b[38;5;124m'\u001b[39m\u001b[38;5;124mapple\u001b[39m\u001b[38;5;124m'\u001b[39m)\n",
      "\u001b[1;31mValueError\u001b[0m: could not convert string to float: 'apple'"
     ]
    }
   ],
   "source": [
    "float('apple')"
   ]
  },
  {
   "cell_type": "code",
   "execution_count": 73,
   "id": "18f5af6c-ecff-42cd-83f1-6c7f3d8a1ce6",
   "metadata": {},
   "outputs": [
    {
     "data": {
      "text/plain": [
       "True"
      ]
     },
     "execution_count": 73,
     "metadata": {},
     "output_type": "execute_result"
    }
   ],
   "source": [
    "bool('apple')"
   ]
  },
  {
   "cell_type": "code",
   "execution_count": 75,
   "id": "e11cd571-bffc-4830-ab21-3f84801c347a",
   "metadata": {},
   "outputs": [
    {
     "ename": "ValueError",
     "evalue": "invalid literal for int() with base 10: 'apple123'",
     "output_type": "error",
     "traceback": [
      "\u001b[1;31m---------------------------------------------------------------------------\u001b[0m",
      "\u001b[1;31mValueError\u001b[0m                                Traceback (most recent call last)",
      "Cell \u001b[1;32mIn[75], line 1\u001b[0m\n\u001b[1;32m----> 1\u001b[0m \u001b[38;5;28mint\u001b[39m(\u001b[38;5;124m'\u001b[39m\u001b[38;5;124mapple123\u001b[39m\u001b[38;5;124m'\u001b[39m)\n",
      "\u001b[1;31mValueError\u001b[0m: invalid literal for int() with base 10: 'apple123'"
     ]
    }
   ],
   "source": [
    "int('apple123')"
   ]
  },
  {
   "cell_type": "code",
   "execution_count": 77,
   "id": "f414ac36-d71b-4d83-bc96-a7bbb6f93de8",
   "metadata": {},
   "outputs": [
    {
     "ename": "ValueError",
     "evalue": "could not convert string to float: 'apple123'",
     "output_type": "error",
     "traceback": [
      "\u001b[1;31m---------------------------------------------------------------------------\u001b[0m",
      "\u001b[1;31mValueError\u001b[0m                                Traceback (most recent call last)",
      "Cell \u001b[1;32mIn[77], line 1\u001b[0m\n\u001b[1;32m----> 1\u001b[0m \u001b[38;5;28mfloat\u001b[39m(\u001b[38;5;124m'\u001b[39m\u001b[38;5;124mapple123\u001b[39m\u001b[38;5;124m'\u001b[39m)\n",
      "\u001b[1;31mValueError\u001b[0m: could not convert string to float: 'apple123'"
     ]
    }
   ],
   "source": [
    "float('apple123')"
   ]
  },
  {
   "cell_type": "code",
   "execution_count": 87,
   "id": "4c32d49e-31af-4ced-b3de-4847a1c80dae",
   "metadata": {},
   "outputs": [
    {
     "data": {
      "text/plain": [
       "True"
      ]
     },
     "execution_count": 87,
     "metadata": {},
     "output_type": "execute_result"
    }
   ],
   "source": [
    "bool('apple123')"
   ]
  },
  {
   "cell_type": "code",
   "execution_count": 89,
   "id": "70f4e5ee-6de5-4d81-af06-9126aad2f815",
   "metadata": {},
   "outputs": [
    {
     "data": {
      "text/plain": [
       "0"
      ]
     },
     "execution_count": 89,
     "metadata": {},
     "output_type": "execute_result"
    }
   ],
   "source": [
    "int('0')"
   ]
  },
  {
   "cell_type": "code",
   "execution_count": 91,
   "id": "9326363a-6609-42c5-b133-aa02eb665a8e",
   "metadata": {},
   "outputs": [
    {
     "data": {
      "text/plain": [
       "0.0"
      ]
     },
     "execution_count": 91,
     "metadata": {},
     "output_type": "execute_result"
    }
   ],
   "source": [
    "float('0')"
   ]
  },
  {
   "cell_type": "code",
   "execution_count": 93,
   "id": "2573552c-b7ed-4771-9d6a-37c7d644ebac",
   "metadata": {},
   "outputs": [
    {
     "data": {
      "text/plain": [
       "True"
      ]
     },
     "execution_count": 93,
     "metadata": {},
     "output_type": "execute_result"
    }
   ],
   "source": [
    "bool('0')"
   ]
  },
  {
   "cell_type": "code",
   "execution_count": 86,
   "id": "87bc3b92-f023-4d75-bedf-61a7d2c349e4",
   "metadata": {},
   "outputs": [
    {
     "ename": "ValueError",
     "evalue": "invalid literal for int() with base 10: ''",
     "output_type": "error",
     "traceback": [
      "\u001b[1;31m---------------------------------------------------------------------------\u001b[0m",
      "\u001b[1;31mValueError\u001b[0m                                Traceback (most recent call last)",
      "Cell \u001b[1;32mIn[86], line 1\u001b[0m\n\u001b[1;32m----> 1\u001b[0m \u001b[38;5;28mint\u001b[39m(\u001b[38;5;124m'\u001b[39m\u001b[38;5;124m'\u001b[39m)\n",
      "\u001b[1;31mValueError\u001b[0m: invalid literal for int() with base 10: ''"
     ]
    }
   ],
   "source": [
    "int('')"
   ]
  },
  {
   "cell_type": "code",
   "execution_count": 97,
   "id": "3d115f3e-c262-4540-8be6-b96c4d28d349",
   "metadata": {},
   "outputs": [
    {
     "ename": "ValueError",
     "evalue": "could not convert string to float: ''",
     "output_type": "error",
     "traceback": [
      "\u001b[1;31m---------------------------------------------------------------------------\u001b[0m",
      "\u001b[1;31mValueError\u001b[0m                                Traceback (most recent call last)",
      "Cell \u001b[1;32mIn[97], line 1\u001b[0m\n\u001b[1;32m----> 1\u001b[0m \u001b[38;5;28mfloat\u001b[39m(\u001b[38;5;124m'\u001b[39m\u001b[38;5;124m'\u001b[39m)\n",
      "\u001b[1;31mValueError\u001b[0m: could not convert string to float: ''"
     ]
    }
   ],
   "source": [
    "float('')"
   ]
  },
  {
   "cell_type": "code",
   "execution_count": 99,
   "id": "cbd3d786-701e-499a-a38b-1eb0ebc3c1fa",
   "metadata": {},
   "outputs": [
    {
     "data": {
      "text/plain": [
       "False"
      ]
     },
     "execution_count": 99,
     "metadata": {},
     "output_type": "execute_result"
    }
   ],
   "source": [
    "bool('')"
   ]
  },
  {
   "cell_type": "code",
   "execution_count": 101,
   "id": "d58567a8-8a22-444f-a4d6-120c51b290ff",
   "metadata": {},
   "outputs": [
    {
     "data": {
      "text/plain": [
       "10"
      ]
     },
     "execution_count": 101,
     "metadata": {},
     "output_type": "execute_result"
    }
   ],
   "source": [
    "int('10')"
   ]
  },
  {
   "cell_type": "code",
   "execution_count": 105,
   "id": "9884229a-514c-4a35-a8c1-50ad29a4f593",
   "metadata": {},
   "outputs": [
    {
     "data": {
      "text/plain": [
       "10.0"
      ]
     },
     "execution_count": 105,
     "metadata": {},
     "output_type": "execute_result"
    }
   ],
   "source": [
    "float('10')"
   ]
  },
  {
   "cell_type": "code",
   "execution_count": 107,
   "id": "e4828f2d-1b8d-4b41-aad6-cc34f69cee4d",
   "metadata": {},
   "outputs": [
    {
     "data": {
      "text/plain": [
       "True"
      ]
     },
     "execution_count": 107,
     "metadata": {},
     "output_type": "execute_result"
    }
   ],
   "source": [
    "bool('10')"
   ]
  },
  {
   "cell_type": "code",
   "execution_count": 90,
   "id": "fe2a8aef-622b-4111-9cd3-62c135c9b4a4",
   "metadata": {},
   "outputs": [
    {
     "ename": "TypeError",
     "evalue": "'str' object is not callable",
     "output_type": "error",
     "traceback": [
      "\u001b[1;31m---------------------------------------------------------------------------\u001b[0m",
      "\u001b[1;31mTypeError\u001b[0m                                 Traceback (most recent call last)",
      "Cell \u001b[1;32mIn[90], line 3\u001b[0m\n\u001b[0;32m      1\u001b[0m \u001b[38;5;66;03m# case-6:\u001b[39;00m\n\u001b[0;32m      2\u001b[0m \u001b[38;5;28mstr\u001b[39m\u001b[38;5;241m=\u001b[39m(\u001b[38;5;124m'\u001b[39m\u001b[38;5;124m10\u001b[39m\u001b[38;5;124m'\u001b[39m)\n\u001b[1;32m----> 3\u001b[0m \u001b[38;5;28mint\u001b[39m(\u001b[38;5;124m'\u001b[39m\u001b[38;5;124m10.0\u001b[39m\u001b[38;5;124m'\u001b[39m)  \n\u001b[0;32m      4\u001b[0m \u001b[38;5;28mfloat\u001b[39m(\u001b[38;5;124m'\u001b[39m\u001b[38;5;124m10.5\u001b[39m\u001b[38;5;124m'\u001b[39m)\n\u001b[0;32m      5\u001b[0m \u001b[38;5;28mbool\u001b[39m(\u001b[38;5;124m'\u001b[39m\u001b[38;5;124m10.5\u001b[39m\u001b[38;5;124m'\u001b[39m)\n",
      "\u001b[1;31mTypeError\u001b[0m: 'str' object is not callable"
     ]
    }
   ],
   "source": [
    "# case-6:\n",
    "str='10.5'\n",
    "int('10.5') # 10 =====> error\n",
    "float('10.5') # 10.5\n",
    "bool('10.5') # True\n"
   ]
  },
  {
   "cell_type": "code",
   "execution_count": 75,
   "id": "63e53db1-58dc-45a2-970c-f4b2afec845b",
   "metadata": {},
   "outputs": [
    {
     "data": {
      "text/plain": [
       "10.5"
      ]
     },
     "execution_count": 75,
     "metadata": {},
     "output_type": "execute_result"
    }
   ],
   "source": [
    "str=10.5\n",
    "str"
   ]
  },
  {
   "cell_type": "code",
   "execution_count": 77,
   "id": "f9008e8f-17d4-4434-a620-f431648734f4",
   "metadata": {},
   "outputs": [
    {
     "data": {
      "text/plain": [
       "10.5"
      ]
     },
     "execution_count": 77,
     "metadata": {},
     "output_type": "execute_result"
    }
   ],
   "source": [
    "int=10.5\n",
    "int"
   ]
  },
  {
   "cell_type": "code",
   "execution_count": 79,
   "id": "287e3309-60ef-4094-9c03-64d3ca1cbc61",
   "metadata": {},
   "outputs": [
    {
     "data": {
      "text/plain": [
       "10.5"
      ]
     },
     "execution_count": 79,
     "metadata": {},
     "output_type": "execute_result"
    }
   ],
   "source": [
    "float=10.5\n",
    "float"
   ]
  },
  {
   "cell_type": "code",
   "execution_count": 81,
   "id": "e789386b-51b2-4826-99a9-a939da68790a",
   "metadata": {},
   "outputs": [
    {
     "data": {
      "text/plain": [
       "10.5"
      ]
     },
     "execution_count": 81,
     "metadata": {},
     "output_type": "execute_result"
    }
   ],
   "source": [
    "bool=10.5\n",
    "bool"
   ]
  },
  {
   "cell_type": "markdown",
   "id": "a73676d3-70d3-4840-871c-60da56804387",
   "metadata": {},
   "source": [
    "**ENGLISH**"
   ]
  },
  {
   "cell_type": "markdown",
   "id": "b901bebb-7aed-4e88-8aab-7023dd6d056a",
   "metadata": {},
   "source": [
    "- english letter as string represntation\n",
    "\n",
    "  - apple\n",
    "\n",
    "    - integer conversion fail\n",
    "    - float conversion fail\n",
    "    - boolean coversion true"
   ]
  },
  {
   "cell_type": "markdown",
   "id": "76936a1e-eb9b-48e6-8424-ef3520260adb",
   "metadata": {},
   "source": [
    "- english letter with number as string representation\n",
    "\n",
    " - apple123\n",
    "\n",
    "   - inter conversion fail\n",
    "   - float conversion fail\n",
    "   - boolean conversion True"
   ]
  },
  {
   "cell_type": "markdown",
   "id": "22141db9-4578-4699-9783-077e8886fc21",
   "metadata": {},
   "source": [
    "- 0 as strings representation \n",
    "\n",
    "  - integer coversion will give 0\n",
    "  - float conversion will give 0.0\n",
    "  - boolean coversion True"
   ]
  },
  {
   "cell_type": "markdown",
   "id": "ddab064e-7fd7-4c06-a5c9-0338ab04bf1c",
   "metadata": {},
   "source": [
    "- empty string as string representation\n",
    "\n",
    "  - integer coversion fail\n",
    "  - float conversion fail\n",
    "  - boolean coversion false"
   ]
  },
  {
   "cell_type": "markdown",
   "id": "ad659279-1cd2-46bc-9d01-931f9fb22aaf",
   "metadata": {},
   "source": [
    "- 10 as string representataion\n",
    "\n",
    "  - integer coversion will give 10\n",
    "  - float conversion will give 10.0\n",
    "  - boolean coversion True"
   ]
  },
  {
   "cell_type": "markdown",
   "id": "d58b3a6f-3bab-4ccf-894a-cc76ed6acf5f",
   "metadata": {},
   "source": [
    "- 10.5 as string representation\n",
    "\n",
    "  - intger coversion will fail\n",
    "  - float conversion will give 010.5"
   ]
  },
  {
   "cell_type": "markdown",
   "id": "eddffeb7-c95a-4e8e-bbc4-b4f8af824763",
   "metadata": {},
   "source": [
    "- boolean coversion True"
   ]
  },
  {
   "cell_type": "code",
   "execution_count": 118,
   "id": "447d807f-b9a5-4e0c-9bfa-dd4fd1871af4",
   "metadata": {},
   "outputs": [
    {
     "data": {
      "text/plain": [
       "10"
      ]
     },
     "execution_count": 118,
     "metadata": {},
     "output_type": "execute_result"
    }
   ],
   "source": [
    "int('10')"
   ]
  },
  {
   "cell_type": "code",
   "execution_count": 120,
   "id": "48fdf18e-295b-4271-8653-2270a62b33d5",
   "metadata": {},
   "outputs": [
    {
     "data": {
      "text/plain": [
       "10.5"
      ]
     },
     "execution_count": 120,
     "metadata": {},
     "output_type": "execute_result"
    }
   ],
   "source": [
    "float('10.5')"
   ]
  },
  {
   "cell_type": "code",
   "execution_count": 122,
   "id": "45537d1f-c8e2-4bbd-93d5-0eaa8f7dfbf1",
   "metadata": {},
   "outputs": [
    {
     "data": {
      "text/plain": [
       "10.0"
      ]
     },
     "execution_count": 122,
     "metadata": {},
     "output_type": "execute_result"
    }
   ],
   "source": [
    "float('10')"
   ]
  },
  {
   "cell_type": "code",
   "execution_count": 124,
   "id": "1b3c1d4c-440b-4781-b0dc-b9a472e38d5d",
   "metadata": {},
   "outputs": [
    {
     "ename": "ValueError",
     "evalue": "invalid literal for int() with base 10: '10.5678'",
     "output_type": "error",
     "traceback": [
      "\u001b[1;31m---------------------------------------------------------------------------\u001b[0m",
      "\u001b[1;31mValueError\u001b[0m                                Traceback (most recent call last)",
      "Cell \u001b[1;32mIn[124], line 1\u001b[0m\n\u001b[1;32m----> 1\u001b[0m \u001b[38;5;28mint\u001b[39m(\u001b[38;5;124m'\u001b[39m\u001b[38;5;124m10.5678\u001b[39m\u001b[38;5;124m'\u001b[39m)\n",
      "\u001b[1;31mValueError\u001b[0m: invalid literal for int() with base 10: '10.5678'"
     ]
    }
   ],
   "source": [
    "int('10.5678')"
   ]
  },
  {
   "cell_type": "code",
   "execution_count": 126,
   "id": "4449a5e6-5b0d-4a06-8f5a-1ca889c693f7",
   "metadata": {},
   "outputs": [
    {
     "data": {
      "text/plain": [
       "10.678"
      ]
     },
     "execution_count": 126,
     "metadata": {},
     "output_type": "execute_result"
    }
   ],
   "source": [
    "10.678\n",
    "\n",
    "# 10.68\n",
    "# 10.7\n",
    "# 10.0\n",
    "# 10"
   ]
  },
  {
   "cell_type": "code",
   "execution_count": 134,
   "id": "74f57e12-230f-4d2b-88ef-81947ecee423",
   "metadata": {},
   "outputs": [
    {
     "data": {
      "text/plain": [
       "10"
      ]
     },
     "execution_count": 134,
     "metadata": {},
     "output_type": "execute_result"
    }
   ],
   "source": [
    "int(float('10.5678'))"
   ]
  },
  {
   "cell_type": "markdown",
   "id": "847dda29-9622-4b64-b01e-ac699fdba94f",
   "metadata": {},
   "source": [
    "- **float is the boss**"
   ]
  },
  {
   "cell_type": "code",
   "execution_count": 137,
   "id": "a5380406-c381-462d-8f7b-850b129e9142",
   "metadata": {},
   "outputs": [
    {
     "data": {
      "text/plain": [
       "10.5"
      ]
     },
     "execution_count": 137,
     "metadata": {},
     "output_type": "execute_result"
    }
   ],
   "source": [
    "float('10')\n",
    "float('10.5')"
   ]
  },
  {
   "cell_type": "markdown",
   "id": "53613236-280e-4b16-b183-0a2c8199cfb7",
   "metadata": {},
   "source": [
    "**integer will works only int familly** int('10')\n",
    "\n",
    "int('10.5') # Error\n",
    "\n",
    "  - boolean conversion of empty string given false\n",
    "  - Otherwise True"
   ]
  },
  {
   "cell_type": "code",
   "execution_count": 146,
   "id": "a729567e-c283-4a0f-b84f-72a4cc5dc2fd",
   "metadata": {},
   "outputs": [
    {
     "data": {
      "text/plain": [
       "(False, True)"
      ]
     },
     "execution_count": 146,
     "metadata": {},
     "output_type": "execute_result"
    }
   ],
   "source": [
    "bool(''),bool(' ')"
   ]
  },
  {
   "cell_type": "code",
   "execution_count": 142,
   "id": "9fc8bd2b-b66a-495a-a223-056ded4c28e2",
   "metadata": {},
   "outputs": [
    {
     "data": {
      "text/plain": [
       "0"
      ]
     },
     "execution_count": 142,
     "metadata": {},
     "output_type": "execute_result"
    }
   ],
   "source": [
    "len('')"
   ]
  },
  {
   "cell_type": "code",
   "execution_count": 144,
   "id": "7f0010a6-aa5b-47f8-9e8a-4f02f47727c4",
   "metadata": {},
   "outputs": [
    {
     "data": {
      "text/plain": [
       "1"
      ]
     },
     "execution_count": 144,
     "metadata": {},
     "output_type": "execute_result"
    }
   ],
   "source": [
    "len(' ')"
   ]
  },
  {
   "cell_type": "code",
   "execution_count": 51,
   "id": "c327d395-8d74-4f01-b755-e059cbdfdb5b",
   "metadata": {},
   "outputs": [
    {
     "data": {
      "text/plain": [
       "10"
      ]
     },
     "execution_count": 51,
     "metadata": {},
     "output_type": "execute_result"
    }
   ],
   "source": [
    "int(10.8) #Number system it will works\n",
    "int(10.5) # This will not works"
   ]
  },
  {
   "cell_type": "code",
   "execution_count": 45,
   "id": "6e7c281f-0d56-4d13-a47b-1d38c4a83143",
   "metadata": {},
   "outputs": [
    {
     "ename": "NameError",
     "evalue": "name 'Str' is not defined",
     "output_type": "error",
     "traceback": [
      "\u001b[1;31m---------------------------------------------------------------------------\u001b[0m",
      "\u001b[1;31mNameError\u001b[0m                                 Traceback (most recent call last)",
      "Cell \u001b[1;32mIn[45], line 3\u001b[0m\n\u001b[0;32m      1\u001b[0m \u001b[38;5;28mint\u001b[39m(\u001b[38;5;28;01mTrue\u001b[39;00m) \u001b[38;5;66;03m# 1\u001b[39;00m\n\u001b[0;32m      2\u001b[0m \u001b[38;5;28mfloat\u001b[39m(\u001b[38;5;28;01mTrue\u001b[39;00m) \u001b[38;5;66;03m# 1.0\u001b[39;00m\n\u001b[1;32m----> 3\u001b[0m Str(\u001b[38;5;28;01mTrue\u001b[39;00m) \u001b[38;5;66;03m# 'True'\u001b[39;00m\n\u001b[0;32m      4\u001b[0m \u001b[38;5;28mstr\u001b[39m\n",
      "\u001b[1;31mNameError\u001b[0m: name 'Str' is not defined"
     ]
    }
   ],
   "source": [
    "int(True) # 1\n",
    "float(True) # 1.0\n",
    "Str(True) # 'True'"
   ]
  },
  {
   "cell_type": "code",
   "execution_count": 29,
   "id": "722672b7-fa12-4ae0-9e51-ce8a6db48c41",
   "metadata": {},
   "outputs": [
    {
     "ename": "SyntaxError",
     "evalue": "invalid non-printable character U+00A0 (2597915880.py, line 3)",
     "output_type": "error",
     "traceback": [
      "\u001b[1;36m  Cell \u001b[1;32mIn[29], line 3\u001b[1;36m\u001b[0m\n\u001b[1;33m    str(False) # 'False'\u001b[0m\n\u001b[1;37m              ^\u001b[0m\n\u001b[1;31mSyntaxError\u001b[0m\u001b[1;31m:\u001b[0m invalid non-printable character U+00A0\n"
     ]
    }
   ],
   "source": [
    "int(False) # 0 \n",
    "float(False) # 0.0\n",
    "str(False) # 'False'"
   ]
  },
  {
   "cell_type": "code",
   "execution_count": 78,
   "id": "1d709e7e-96df-4ce9-9a58-8ac23044f1ae",
   "metadata": {},
   "outputs": [],
   "source": [
    "str1=(True)"
   ]
  },
  {
   "cell_type": "code",
   "execution_count": null,
   "id": "77bdc472-76be-4f96-a9e8-11826d5bd3ba",
   "metadata": {},
   "outputs": [],
   "source": []
  }
 ],
 "metadata": {
  "kernelspec": {
   "display_name": "Python 3 (ipykernel)",
   "language": "python",
   "name": "python3"
  },
  "language_info": {
   "codemirror_mode": {
    "name": "ipython",
    "version": 3
   },
   "file_extension": ".py",
   "mimetype": "text/x-python",
   "name": "python",
   "nbconvert_exporter": "python",
   "pygments_lexer": "ipython3",
   "version": "3.12.4"
  }
 },
 "nbformat": 4,
 "nbformat_minor": 5
}
